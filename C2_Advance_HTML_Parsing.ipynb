{
  "nbformat": 4,
  "nbformat_minor": 0,
  "metadata": {
    "colab": {
      "name": "C2 Advance HTML Parsing.ipynb",
      "provenance": [],
      "authorship_tag": "ABX9TyPe56JFSnKzI3g73XqNZXPe",
      "include_colab_link": true
    },
    "kernelspec": {
      "name": "python3",
      "display_name": "Python 3"
    },
    "language_info": {
      "name": "python"
    }
  },
  "cells": [
    {
      "cell_type": "markdown",
      "metadata": {
        "id": "view-in-github",
        "colab_type": "text"
      },
      "source": [
        "<a href=\"https://colab.research.google.com/github/steven1174/Web_Scraping_with_Python/blob/main/C2_Advance_HTML_Parsing.ipynb\" target=\"_parent\"><img src=\"https://colab.research.google.com/assets/colab-badge.svg\" alt=\"Open In Colab\"/></a>"
      ]
    },
    {
      "cell_type": "markdown",
      "source": [
        "# Libraries"
      ],
      "metadata": {
        "id": "_vjmz3-6yti2"
      }
    },
    {
      "cell_type": "code",
      "source": [
        "%%capture\n",
        "from urllib.request import urlopen\n",
        "from bs4 import BeautifulSoup"
      ],
      "metadata": {
        "id": "8GoDAlQeywS-"
      },
      "execution_count": 1,
      "outputs": []
    },
    {
      "cell_type": "markdown",
      "source": [
        "# Code 1"
      ],
      "metadata": {
        "id": "KAl1VFNXy80B"
      }
    },
    {
      "cell_type": "code",
      "execution_count": 2,
      "metadata": {
        "id": "LH1iorowyRV7"
      },
      "outputs": [],
      "source": [
        "url = 'https://www.pythonscraping.com/pages/warandpeace.html'"
      ]
    },
    {
      "cell_type": "code",
      "source": [
        "html = urlopen(\"http://www.pythonscraping.com/pages/warandpeace.html\")\n",
        "bsObj = BeautifulSoup(html)"
      ],
      "metadata": {
        "id": "O9FPMsfTzKOf"
      },
      "execution_count": 3,
      "outputs": []
    },
    {
      "cell_type": "code",
      "source": [
        "nameList = bsObj.findAll(\"span\",{\"class\":\"green\"})\n",
        "\n",
        "for name in nameList:\n",
        "  print(name.get_text())"
      ],
      "metadata": {
        "colab": {
          "base_uri": "https://localhost:8080/"
        },
        "id": "bn4nsdH-zWCF",
        "outputId": "383e4398-d96b-4897-c61b-08f5e5b36ea5"
      },
      "execution_count": 4,
      "outputs": [
        {
          "output_type": "stream",
          "name": "stdout",
          "text": [
            "Anna\n",
            "Pavlovna Scherer\n",
            "Empress Marya\n",
            "Fedorovna\n",
            "Prince Vasili Kuragin\n",
            "Anna Pavlovna\n",
            "St. Petersburg\n",
            "the prince\n",
            "Anna Pavlovna\n",
            "Anna Pavlovna\n",
            "the prince\n",
            "the prince\n",
            "the prince\n",
            "Prince Vasili\n",
            "Anna Pavlovna\n",
            "Anna Pavlovna\n",
            "the prince\n",
            "Wintzingerode\n",
            "King of Prussia\n",
            "le Vicomte de Mortemart\n",
            "Montmorencys\n",
            "Rohans\n",
            "Abbe Morio\n",
            "the Emperor\n",
            "the prince\n",
            "Prince Vasili\n",
            "Dowager Empress Marya Fedorovna\n",
            "the baron\n",
            "Anna Pavlovna\n",
            "the Empress\n",
            "the Empress\n",
            "Anna Pavlovna's\n",
            "Her Majesty\n",
            "Baron\n",
            "Funke\n",
            "The prince\n",
            "Anna\n",
            "Pavlovna\n",
            "the Empress\n",
            "The prince\n",
            "Anatole\n",
            "the prince\n",
            "The prince\n",
            "Anna\n",
            "Pavlovna\n",
            "Anna Pavlovna\n"
          ]
        }
      ]
    },
    {
      "cell_type": "markdown",
      "source": [
        "When to *get_text()* and When to Preserve Tags\n",
        ".get_text() strips all tags from the document you are working\n",
        "with and returns a string containing the text only. For example, if\n",
        "you are working with a large block of text that contains many\n",
        "hyperlinks, paragraphs, and other tags, all those will be stripped\n",
        "away and you’ll be left with a tagless block of text.\n",
        "Keep in mind that it’s much easier to find what you’re looking for\n",
        "in a BeautifulSoup object than in a block of text. Calling\n",
        ".get_text() should always be the last thing you do, immediately\n",
        "before you print, store, or manipulate your final data. In\n",
        "general, you should try to preserve the tag structure of a document\n",
        "as long as possible."
      ],
      "metadata": {
        "id": "H-a94jyRz1-B"
      }
    },
    {
      "cell_type": "markdown",
      "source": [
        "# Code 2\n",
        "\n",
        "\n",
        "\n",
        "\n",
        " "
      ],
      "metadata": {
        "id": "BCuZSCLP0Mxa"
      }
    },
    {
      "cell_type": "markdown",
      "source": [
        "*   findAll(tag, attributes, recursive, text, limit, keywords)\n",
        "*   find(tag, attributes, recursive, text, keywords)\n",
        "\n",
        "Some examples of how to use the code: \n",
        "\n",
        "\n",
        "1.   findAll({\"h1\",\"h2\",\"h3\",\"h4\",\"h5\",\"h6\"})\n",
        "2.   findAll(\"span\", {\"class\":\"green\", \"class\":\"red\"})"
      ],
      "metadata": {
        "id": "pHkpROqq4toU"
      }
    },
    {
      "cell_type": "code",
      "source": [
        "nameList = bsObj.findAll(text=\"the prince\")\n",
        "print(nameList)"
      ],
      "metadata": {
        "colab": {
          "base_uri": "https://localhost:8080/"
        },
        "id": "c2HFX_wJ0MM8",
        "outputId": "cd1616c5-8795-4711-863a-afca67f17e35"
      },
      "execution_count": 5,
      "outputs": [
        {
          "output_type": "stream",
          "name": "stdout",
          "text": [
            "['the prince', 'the prince', 'the prince', 'the prince', 'the prince', 'the prince', 'the prince']\n"
          ]
        }
      ]
    },
    {
      "cell_type": "code",
      "source": [
        "allText = bsObj.findAll(id=\"text\")\n",
        "print(allText[0].get_text())"
      ],
      "metadata": {
        "colab": {
          "base_uri": "https://localhost:8080/"
        },
        "id": "l4bozqw11j-P",
        "outputId": "c3c513ab-315b-4153-df65-2bf85dfa126a"
      },
      "execution_count": 6,
      "outputs": [
        {
          "output_type": "stream",
          "name": "stdout",
          "text": [
            "\n",
            "\"Well, Prince, so Genoa and Lucca are now just family estates of the\n",
            "Buonapartes. But I warn you, if you don't tell me that this means war,\n",
            "if you still try to defend the infamies and horrors perpetrated by\n",
            "that Antichrist- I really believe he is Antichrist- I will have\n",
            "nothing more to do with you and you are no longer my friend, no longer\n",
            "my 'faithful slave,' as you call yourself! But how do you do? I see\n",
            "I have frightened you- sit down and tell me all the news.\"\n",
            "\n",
            "It was in July, 1805, and the speaker was the well-known Anna\n",
            "Pavlovna Scherer, maid of honor and favorite of the Empress Marya\n",
            "Fedorovna. With these words she greeted Prince Vasili Kuragin, a man\n",
            "of high rank and importance, who was the first to arrive at her\n",
            "reception. Anna Pavlovna had had a cough for some days. She was, as\n",
            "she said, suffering from la grippe; grippe being then a new word in\n",
            "St. Petersburg, used only by the elite.\n",
            "\n",
            "All her invitations without exception, written in French, and\n",
            "delivered by a scarlet-liveried footman that morning, ran as follows:\n",
            "\n",
            "\"If you have nothing better to do, Count [or Prince], and if the\n",
            "prospect of spending an evening with a poor invalid is not too\n",
            "terrible, I shall be very charmed to see you tonight between 7 and 10-\n",
            "Annette Scherer.\"\n",
            "\n",
            "\"Heavens! what a virulent attack!\" replied the prince, not in the\n",
            "least disconcerted by this reception. He had just entered, wearing\n",
            "an embroidered court uniform, knee breeches, and shoes, and had\n",
            "stars on his breast and a serene expression on his flat face. He spoke\n",
            "in that refined French in which our grandfathers not only spoke but\n",
            "thought, and with the gentle, patronizing intonation natural to a\n",
            "man of importance who had grown old in society and at court. He went\n",
            "up to Anna Pavlovna, kissed her hand, presenting to her his bald,\n",
            "scented, and shining head, and complacently seated himself on the\n",
            "sofa.\n",
            "\n",
            "\"First of all, dear friend, tell me how you are. Set your friend's\n",
            "mind at rest,\" said he without altering his tone, beneath the\n",
            "politeness and affected sympathy of which indifference and even\n",
            "irony could be discerned.\n",
            "\n",
            "\"Can one be well while suffering morally? Can one be calm in times\n",
            "like these if one has any feeling?\" said Anna Pavlovna. \"You are\n",
            "staying the whole evening, I hope?\"\n",
            "\n",
            "\"And the fete at the English ambassador's? Today is Wednesday. I\n",
            "must put in an appearance there,\" said the prince. \"My daughter is\n",
            "coming for me to take me there.\"\n",
            "\n",
            "\"I thought today's fete had been canceled. I confess all these\n",
            "festivities and fireworks are becoming wearisome.\"\n",
            "\n",
            "\"If they had known that you wished it, the entertainment would\n",
            "have been put off,\" said the prince, who, like a wound-up clock, by\n",
            "force of habit said things he did not even wish to be believed.\n",
            "\n",
            "\"Don't tease! Well, and what has been decided about Novosiltsev's\n",
            "dispatch? You know everything.\"\n",
            "\n",
            "\"What can one say about it?\" replied the prince in a cold,\n",
            "listless tone. \"What has been decided? They have decided that\n",
            "Buonaparte has burnt his boats, and I believe that we are ready to\n",
            "burn ours.\"\n",
            "\n",
            "Prince Vasili always spoke languidly, like an actor repeating a\n",
            "stale part. Anna Pavlovna Scherer on the contrary, despite her forty\n",
            "years, overflowed with animation and impulsiveness. To be an\n",
            "enthusiast had become her social vocation and, sometimes even when she\n",
            "did not feel like it, she became enthusiastic in order not to\n",
            "disappoint the expectations of those who knew her. The subdued smile\n",
            "which, though it did not suit her faded features, always played\n",
            "round her lips expressed, as in a spoiled child, a continual\n",
            "consciousness of her charming defect, which she neither wished, nor\n",
            "could, nor considered it necessary, to correct.\n",
            "\n",
            "In the midst of a conversation on political matters Anna Pavlovna\n",
            "burst out:\n",
            "\n",
            "\"Oh, don't speak to me of Austria. Perhaps I don't understand\n",
            "things, but Austria never has wished, and does not wish, for war.\n",
            "She is betraying us! Russia alone must save Europe. Our gracious\n",
            "sovereign recognizes his high vocation and will be true to it. That is\n",
            "the one thing I have faith in! Our good and wonderful sovereign has to\n",
            "perform the noblest role on earth, and he is so virtuous and noble\n",
            "that God will not forsake him. He will fulfill his vocation and\n",
            "crush the hydra of revolution, which has become more terrible than\n",
            "ever in the person of this murderer and villain! We alone must\n",
            "avenge the blood of the just one.... Whom, I ask you, can we rely\n",
            "on?... England with her commercial spirit will not and cannot\n",
            "understand the Emperor Alexander's loftiness of soul. She has\n",
            "refused to evacuate Malta. She wanted to find, and still seeks, some\n",
            "secret motive in our actions. What answer did Novosiltsev get? None.\n",
            "The English have not understood and cannot understand the\n",
            "self-abnegation of our Emperor who wants nothing for himself, but only\n",
            "desires the good of mankind. And what have they promised? Nothing! And\n",
            "what little they have promised they will not perform! Prussia has\n",
            "always declared that Buonaparte is invincible, and that all Europe\n",
            "is powerless before him.... And I don't believe a word that Hardenburg\n",
            "says, or Haugwitz either. This famous Prussian neutrality is just a\n",
            "trap. I have faith only in God and the lofty destiny of our adored\n",
            "monarch. He will save Europe!\"\n",
            "\n",
            "She suddenly paused, smiling at her own impetuosity.\n",
            "\n",
            "\"I think,\" said the prince with a smile, \"that if you had been\n",
            "sent instead of our dear Wintzingerode you would have captured the\n",
            "King of Prussia's consent by assault. You are so eloquent. Will you\n",
            "give me a cup of tea?\"\n",
            "\n",
            "\"In a moment. A propos,\" she added, becoming calm again, \"I am\n",
            "expecting two very interesting men tonight, le Vicomte de Mortemart,\n",
            "who is connected with the Montmorencys through the Rohans, one of\n",
            "the best French families. He is one of the genuine emigres, the good\n",
            "ones. And also the Abbe Morio. Do you know that profound thinker? He\n",
            "has been received by the Emperor. Had you heard?\"\n",
            "\n",
            "\"I shall be delighted to meet them,\" said the prince. \"But tell me,\"\n",
            "he added with studied carelessness as if it had only just occurred\n",
            "to him, though the question he was about to ask was the chief motive\n",
            "of his visit, \"is it true that the Dowager Empress wants Baron Funke\n",
            "to be appointed first secretary at Vienna? The baron by all accounts\n",
            "is a poor creature.\"\n",
            "\n",
            "Prince Vasili wished to obtain this post for his son, but others\n",
            "were trying through the Dowager Empress Marya Fedorovna to secure it\n",
            "for the baron.\n",
            "\n",
            "Anna Pavlovna almost closed her eyes to indicate that neither she\n",
            "nor anyone else had a right to criticize what the Empress desired or\n",
            "was pleased with.\n",
            "\n",
            "\"Baron Funke has been recommended to the Dowager Empress by her\n",
            "sister,\" was all she said, in a dry and mournful tone.\n",
            "\n",
            "As she named the Empress, Anna Pavlovna's face suddenly assumed an\n",
            "expression of profound and sincere devotion and respect mingled with\n",
            "sadness, and this occurred every time she mentioned her illustrious\n",
            "patroness. She added that Her Majesty had deigned to show Baron\n",
            "Funke, and again her face clouded over with sadness.\n",
            "\n",
            "The prince was silent and looked indifferent. But, with the\n",
            "womanly and courtierlike quickness and tact habitual to her, Anna\n",
            "Pavlovna wished both to rebuke him (for daring to speak he had done of\n",
            "a man recommended to the Empress) and at the same time to console him,\n",
            "so she said:\n",
            "\n",
            "\"Now about your family. Do you know that since your daughter came\n",
            "out everyone has been enraptured by her? They say she is amazingly\n",
            "beautiful.\"\n",
            "\n",
            "The prince bowed to signify his respect and gratitude.\n",
            "\n",
            "\"I often think,\" she continued after a short pause, drawing nearer\n",
            "to the prince and smiling amiably at him as if to show that\n",
            "political and social topics were ended and the time had come for\n",
            "intimate conversation- \"I often think how unfairly sometimes the\n",
            "joys of life are distributed. Why has fate given you two such splendid\n",
            "children? I don't speak of Anatole, your youngest. I don't like\n",
            "him,\" she added in a tone admitting of no rejoinder and raising her\n",
            "eyebrows. \"Two such charming children. And really you appreciate\n",
            "them less than anyone, and so you don't deserve to have them.\"\n",
            "\n",
            "And she smiled her ecstatic smile.\n",
            "\n",
            "\"I can't help it,\" said the prince. \"Lavater would have said I\n",
            "lack the bump of paternity.\"\n",
            "\n",
            "\"Don't joke; I mean to have a serious talk with you. Do you know I\n",
            "am dissatisfied with your younger son? Between ourselves\" (and her\n",
            "face assumed its melancholy expression), \"he was mentioned at Her\n",
            "Majesty's and you were pitied....\"\n",
            "\n",
            "The prince answered nothing, but she looked at him significantly,\n",
            "awaiting a reply. He frowned.\n",
            "\n",
            "\"What would you have me do?\" he said at last. \"You know I did all\n",
            "a father could for their education, and they have both turned out\n",
            "fools. Hippolyte is at least a quiet fool, but Anatole is an active\n",
            "one. That is the only difference between them.\" He said this smiling\n",
            "in a way more natural and animated than usual, so that the wrinkles\n",
            "round his mouth very clearly revealed something unexpectedly coarse\n",
            "and unpleasant.\n",
            "\n",
            "\"And why are children born to such men as you? If you were not a\n",
            "father there would be nothing I could reproach you with,\" said Anna\n",
            "Pavlovna, looking up pensively.\n",
            "\n",
            "\"I am your faithful slave and to you alone I can confess that my\n",
            "children are the bane of my life. It is the cross I have to bear. That\n",
            "is how I explain it to myself. It can't be helped!\"\n",
            "\n",
            "He said no more, but expressed his resignation to cruel fate by a\n",
            "gesture. Anna Pavlovna meditated.\n",
            "\n"
          ]
        }
      ]
    },
    {
      "cell_type": "markdown",
      "source": [
        "**A Caveat to the keyword Argument**\n",
        "<body>\n",
        "<p>The keyword argument can be very helpful in some situations.\n",
        "However, it is technically redundant as a BeautifulSoup feature.\n",
        "Keep in mind that anything that can be done with keyword can also\n",
        "be accomplished using techniques we will discuss later in this chapter\n",
        "(see Regular Expressions and Lambda Expressions).</p>\n",
        "\n",
        "<p>For instance, the following two lines are identical:</p>\n",
        "<ul>\n",
        "  <li>*bsObj.findAll(id=\"text\")*</li>\n",
        "  <li>*bsObj.findAll(\"\", {\"id\":\"text\"})*</li>\n",
        "</ul>\n",
        "<p>In addition, you might occasionally run into problems using key\n",
        "word, most notably when searching for elements by their class\n",
        "attribute, because class is a protected keyword in Python. That is,\n",
        "class is a reserved word in Python that cannot be used as a variable\n",
        "or argument name (no relation to the BeautifulSoup.findAll()\n",
        "keyword argument, previously discussed). For example, if you try\n",
        "the following call, you’ll get a syntax error due to the nonstandard\n",
        "use of class:</p>\n",
        "<ul>\n",
        "  <li>*bsObj.findAll(class=\"green\")*</li>\n",
        "</ul>\n",
        "<p>Instead, you can use BeautifulSoup’s somewhat clumsy solution, which involves adding an underscore:</p>\n",
        "<ul>\n",
        "  <li>*bsObj.findAll(class_=\"green\")*</li>\n",
        "</ul>\n",
        "<p>Alternatively, you can enclose class in quotes:</p>\n",
        "<ul>\n",
        "  <li>*bsObj.findAll(\"\", {\"class\":\"green\"})*</li>\n",
        "</ul>\n",
        "</body>"
      ],
      "metadata": {
        "id": "AX_yYSol1pdu"
      }
    },
    {
      "cell_type": "markdown",
      "source": [
        "# Code 2"
      ],
      "metadata": {
        "id": "je33-wG34R2w"
      }
    },
    {
      "cell_type": "markdown",
      "source": [
        "## Dealing with children and other descendants"
      ],
      "metadata": {
        "id": "TYqH9oZ3743V"
      }
    },
    {
      "cell_type": "markdown",
      "source": [
        "*   descendants()\n",
        "*   children()"
      ],
      "metadata": {
        "id": "XziYlwQw6D4r"
      }
    },
    {
      "cell_type": "code",
      "source": [
        "url = \"http://www.pythonscraping.com/pages/page3.html\""
      ],
      "metadata": {
        "id": "4EeQfanc8J91"
      },
      "execution_count": 7,
      "outputs": []
    },
    {
      "cell_type": "code",
      "source": [
        "html = urlopen(url)\n",
        "bsObj = BeautifulSoup(html)\n",
        "\n",
        "for child in bsObj.find(\"table\",{\"id\":\"giftList\"}).children:\n",
        "  print(child)"
      ],
      "metadata": {
        "colab": {
          "base_uri": "https://localhost:8080/"
        },
        "id": "H_ownwvr1o7b",
        "outputId": "b73dabd3-303a-4cfa-e76d-fa7e9fc5edde"
      },
      "execution_count": 8,
      "outputs": [
        {
          "output_type": "stream",
          "name": "stdout",
          "text": [
            "\n",
            "\n",
            "<tr><th>\n",
            "Item Title\n",
            "</th><th>\n",
            "Description\n",
            "</th><th>\n",
            "Cost\n",
            "</th><th>\n",
            "Image\n",
            "</th></tr>\n",
            "\n",
            "\n",
            "<tr class=\"gift\" id=\"gift1\"><td>\n",
            "Vegetable Basket\n",
            "</td><td>\n",
            "This vegetable basket is the perfect gift for your health conscious (or overweight) friends!\n",
            "<span class=\"excitingNote\">Now with super-colorful bell peppers!</span>\n",
            "</td><td>\n",
            "$15.00\n",
            "</td><td>\n",
            "<img src=\"../img/gifts/img1.jpg\"/>\n",
            "</td></tr>\n",
            "\n",
            "\n",
            "<tr class=\"gift\" id=\"gift2\"><td>\n",
            "Russian Nesting Dolls\n",
            "</td><td>\n",
            "Hand-painted by trained monkeys, these exquisite dolls are priceless! And by \"priceless,\" we mean \"extremely expensive\"! <span class=\"excitingNote\">8 entire dolls per set! Octuple the presents!</span>\n",
            "</td><td>\n",
            "$10,000.52\n",
            "</td><td>\n",
            "<img src=\"../img/gifts/img2.jpg\"/>\n",
            "</td></tr>\n",
            "\n",
            "\n",
            "<tr class=\"gift\" id=\"gift3\"><td>\n",
            "Fish Painting\n",
            "</td><td>\n",
            "If something seems fishy about this painting, it's because it's a fish! <span class=\"excitingNote\">Also hand-painted by trained monkeys!</span>\n",
            "</td><td>\n",
            "$10,005.00\n",
            "</td><td>\n",
            "<img src=\"../img/gifts/img3.jpg\"/>\n",
            "</td></tr>\n",
            "\n",
            "\n",
            "<tr class=\"gift\" id=\"gift4\"><td>\n",
            "Dead Parrot\n",
            "</td><td>\n",
            "This is an ex-parrot! <span class=\"excitingNote\">Or maybe he's only resting?</span>\n",
            "</td><td>\n",
            "$0.50\n",
            "</td><td>\n",
            "<img src=\"../img/gifts/img4.jpg\"/>\n",
            "</td></tr>\n",
            "\n",
            "\n",
            "<tr class=\"gift\" id=\"gift5\"><td>\n",
            "Mystery Box\n",
            "</td><td>\n",
            "If you love suprises, this mystery box is for you! Do not place on light-colored surfaces. May cause oil staining. <span class=\"excitingNote\">Keep your friends guessing!</span>\n",
            "</td><td>\n",
            "$1.50\n",
            "</td><td>\n",
            "<img src=\"../img/gifts/img6.jpg\"/>\n",
            "</td></tr>\n",
            "\n",
            "\n"
          ]
        }
      ]
    },
    {
      "cell_type": "markdown",
      "source": [
        "## Dealing with siblings"
      ],
      "metadata": {
        "id": "_rUfto6_76a9"
      }
    },
    {
      "cell_type": "markdown",
      "source": [
        "*   next_sibling\n",
        "*   next_siblings\n",
        "*   previous_sibling\n",
        "*   previous_siblings"
      ],
      "metadata": {
        "id": "5ZlRmzDW6c0y"
      }
    },
    {
      "cell_type": "code",
      "source": [
        "html = urlopen(url)\n",
        "bsObj = BeautifulSoup(html)\n",
        "\n",
        "for sibling in bsObj.find(\"table\",{\"id\":\"giftList\"}).tr.next_siblings:\n",
        "  print(sibling)"
      ],
      "metadata": {
        "colab": {
          "base_uri": "https://localhost:8080/"
        },
        "id": "DjAUMtz879BV",
        "outputId": "8d84e530-ae91-4d98-c632-92a9891155a3"
      },
      "execution_count": 9,
      "outputs": [
        {
          "output_type": "stream",
          "name": "stdout",
          "text": [
            "\n",
            "\n",
            "<tr class=\"gift\" id=\"gift1\"><td>\n",
            "Vegetable Basket\n",
            "</td><td>\n",
            "This vegetable basket is the perfect gift for your health conscious (or overweight) friends!\n",
            "<span class=\"excitingNote\">Now with super-colorful bell peppers!</span>\n",
            "</td><td>\n",
            "$15.00\n",
            "</td><td>\n",
            "<img src=\"../img/gifts/img1.jpg\"/>\n",
            "</td></tr>\n",
            "\n",
            "\n",
            "<tr class=\"gift\" id=\"gift2\"><td>\n",
            "Russian Nesting Dolls\n",
            "</td><td>\n",
            "Hand-painted by trained monkeys, these exquisite dolls are priceless! And by \"priceless,\" we mean \"extremely expensive\"! <span class=\"excitingNote\">8 entire dolls per set! Octuple the presents!</span>\n",
            "</td><td>\n",
            "$10,000.52\n",
            "</td><td>\n",
            "<img src=\"../img/gifts/img2.jpg\"/>\n",
            "</td></tr>\n",
            "\n",
            "\n",
            "<tr class=\"gift\" id=\"gift3\"><td>\n",
            "Fish Painting\n",
            "</td><td>\n",
            "If something seems fishy about this painting, it's because it's a fish! <span class=\"excitingNote\">Also hand-painted by trained monkeys!</span>\n",
            "</td><td>\n",
            "$10,005.00\n",
            "</td><td>\n",
            "<img src=\"../img/gifts/img3.jpg\"/>\n",
            "</td></tr>\n",
            "\n",
            "\n",
            "<tr class=\"gift\" id=\"gift4\"><td>\n",
            "Dead Parrot\n",
            "</td><td>\n",
            "This is an ex-parrot! <span class=\"excitingNote\">Or maybe he's only resting?</span>\n",
            "</td><td>\n",
            "$0.50\n",
            "</td><td>\n",
            "<img src=\"../img/gifts/img4.jpg\"/>\n",
            "</td></tr>\n",
            "\n",
            "\n",
            "<tr class=\"gift\" id=\"gift5\"><td>\n",
            "Mystery Box\n",
            "</td><td>\n",
            "If you love suprises, this mystery box is for you! Do not place on light-colored surfaces. May cause oil staining. <span class=\"excitingNote\">Keep your friends guessing!</span>\n",
            "</td><td>\n",
            "$1.50\n",
            "</td><td>\n",
            "<img src=\"../img/gifts/img6.jpg\"/>\n",
            "</td></tr>\n",
            "\n",
            "\n"
          ]
        }
      ]
    },
    {
      "cell_type": "markdown",
      "source": [
        "## Dealing with your parents"
      ],
      "metadata": {
        "id": "kJB9lzpO61vV"
      }
    },
    {
      "cell_type": "markdown",
      "source": [
        "* .parent\n",
        "* .parents"
      ],
      "metadata": {
        "id": "5U4ECFmM7BGj"
      }
    },
    {
      "cell_type": "code",
      "source": [
        "html = urlopen(url)\n",
        "bsObj = BeautifulSoup(html)\n",
        "print(bsObj.find(\"img\",{\"src\":\"../img/gifts/img1.jpg\"}).parent.previous_sibling.get_text())"
      ],
      "metadata": {
        "colab": {
          "base_uri": "https://localhost:8080/"
        },
        "id": "K50v3bAM63Cc",
        "outputId": "360e366e-ec66-4da7-928a-2edcf62e4445"
      },
      "execution_count": 21,
      "outputs": [
        {
          "output_type": "stream",
          "name": "stdout",
          "text": [
            "\n",
            "$15.00\n",
            "\n"
          ]
        }
      ]
    },
    {
      "cell_type": "markdown",
      "source": [
        "## Regular Expressions"
      ],
      "metadata": {
        "id": "xKUVN9At8jzp"
      }
    },
    {
      "cell_type": "markdown",
      "source": [
        "Example of ***regex:*** aa*bbbbb(cc)*(d | )\n",
        "\n",
        "* <b><i>aa* :</i></b>\n",
        "<p>The letter a is written, followed by a* (read as a star) which means “any number of a’s, including 0 of them.” In this way, we can guarantee that the letter a is written at least once.</p>\n",
        "\n",
        "* <b><i>bbbbb :</i></b>\n",
        "<p>No special effects here —just five b’s in a row.</p>\n",
        "\n",
        "* <b><i>(cc)* :</i></b>\n",
        "<p>Any even number of things can be grouped into pairs, so in order to enforce this rule about even things, you can write two c’s, surround them in parentheses, and write an asterisk after it, meaning that you can have any number of pairs of c’s (note that this can mean 0 pairs, as well).</p>\n",
        "\n",
        "* <b><i>(d | ) :</i></b>\n",
        "<p>Adding a bar in the middle of two expressions means that it can be “this thing or that thing.” In this case, we are saying “add a d followed by a space or just add a space without a d.” In this way we can guarantee that there is, at most, one d, followed by a space, completing the string.</p>\n"
      ],
      "metadata": {
        "id": "qr74yCJs9PeL"
      }
    },
    {
      "cell_type": "markdown",
      "source": [
        "Example of ***regex:*** Email Addresses [A-Za-z0-9\\._+]+@[A-Za-z]+\\.(com|org|edu|net)\n",
        "\n",
        "1.   ***Rule 1:***\n",
        "\n",
        "* The first part of an email address contains at least one of the following: uppercase letters, lowercase letters, the numbers 0-9, periods (.), plus signs (+), or underscores (_).\n",
        "\n",
        "* **[A-Za-z0-9\\._+]+**\n",
        "* The regular expression shorthand is pretty smart. For\n",
        "example, it knows that “A-Z” means “any uppercase\n",
        "letter, A through Z.” By putting all these possible\n",
        "sequences and symbols in brackets (as opposed to\n",
        "parentheses) we are saying “this symbol can be any one\n",
        "of these things we’ve listed in the brackets.” Note also\n",
        "that the + sign means “these characters can occur as\n",
        "many times as they want to, but must occur at least\n",
        "once.”\n",
        "\n",
        "2.   ***Rule 2:***\n",
        "\n",
        "* After this, the email address contains the @ symbol.\n",
        "\n",
        "* **@**\n",
        "* This is fairly straightforward: the @ symbol must occur in\n",
        "the middle, and it must occur exactly once.\n",
        "\n",
        "3.   ***Rule 3:***\n",
        "\n",
        "* The email address then must contain\n",
        "at least one uppercase or lowercase\n",
        "letter.\n",
        "\n",
        "* **[A-Za-z]+**\n",
        "* We may use only letters in the first part of the domain\n",
        "name, after the @ symbol. Also, there must be at least\n",
        "one character.\n",
        "\n",
        "4.   ***Rule 4:***\n",
        "\n",
        "* This is followed by a period (.).\n",
        "\n",
        "* **\\.**\n",
        "* You must include a period (.) before the domain name.\n",
        "5.   ***Rule 5:***\n",
        "\n",
        "* Finally, the email address ends with\n",
        "com, org, edu, or net (in reality, there\n",
        "are many possible top-level\n",
        "domains, but, these four should\n",
        "suffice for the sake of example).\n",
        "\n",
        "* **(com|org|edu|net)**\n",
        "* This lists the possible sequences of letters that can occur\n",
        "after the period in the second part of an email address."
      ],
      "metadata": {
        "id": "BJU0ueji_-tf"
      }
    },
    {
      "cell_type": "markdown",
      "source": [
        "Commonly used regular expression symbols:\n",
        "\n",
        "1. <b><i>* :</i></b>\n",
        "<p>Matches the preceding character, subexpression, or bracketed character,\n",
        "0 or more times</p>\n",
        "<p>a*b*</p>\n",
        "<p>aaaaaaaa, aaabbbbb, bbbbbb</p>\n",
        "\n",
        "2. <b><i>+ :</i></b>\n",
        "<p>Matches the preceding character, subexpression, or bracketed character,\n",
        "1 or more times</p>\n",
        "<p>a+b+</p>\n",
        "<p>aaaaaaaab,\n",
        "aaabbbbb, abbbbbb</p>\n",
        "\n",
        "3. <b><i>[] :</i></b>\n",
        "<p>Matches any character within the brackets (i.e., “Pick any one of these\n",
        "things”)</p>\n",
        "<p>[A-Z]*</p>\n",
        "<p>APPLE, CAPITALS, QWERTY</p>\n",
        "\n",
        "4. <b><i>() :</i></b>\n",
        "<p>A grouped subexpression (these are evaluated first, in the “order of\n",
        "operations” of regular expressions)</p>\n",
        "<p>(a*b)*</p>\n",
        "<p>aaabaab, abaaab, ababaaaaab</p>\n",
        "\n",
        "5. <b><i>{m, n} :</i></b>\n",
        "<p>Matches the preceding character, subexpression, or bracketed character\n",
        "between m and n times (inclusive)</p>\n",
        "<p>a{2,3}b{2,3}</p>\n",
        "<p>aabbb, aaabbb, aabb</p>\n",
        "\n",
        "6. <b><i>[^] :</i></b>\n",
        "<p>Matches any single character that is not in the brackets</p>\n",
        "<p>[^A-Z]*</p>\n",
        "<p>apple, lowercase, qwerty</p>\n",
        "\n",
        "7. <b><i>| :</i></b>\n",
        "<p>Matches any character, string of characters, or subexpression, separated\n",
        "by the “I” (note that this is a vertical bar, or “pipe,” not a capital “i”)</p>\n",
        "<p>b(a|i|e)d</p>\n",
        "<p>bad, bid, bed</p>\n",
        "\n",
        "8. <b><i>. :</i></b>\n",
        "<p>Matches any single character (including symbols, numbers, a space, etc.)</p>\n",
        "<p>b.d</p>\n",
        "<p>bad, bzd, b$d, b d</p>\n",
        "\n",
        "9. <b><i>^ :</i></b>\n",
        "<p>Indicates that a character or subexpression occurs at the beginning of a\n",
        "string</p>\n",
        "<p>^a</p>\n",
        "<p>apple, asdf, a</p>\n",
        "\n",
        "10. <b><i>\\ :</i></b>\n",
        "<p>An escape character (this allows you to use “special” characters as their\n",
        "literal meaning)</p>\n",
        "<p>\\. \\| \\\\</p>\n",
        "<p>. | \\</p>\n",
        "\n",
        "11. <b><i>\\$ :</i></b>\n",
        "<p>Often used at the end of a regular expression, it means “match this up\n",
        "to the end of the string.” Without it, every regular expression has a\n",
        "defacto “.*” at the end of it, accepting strings where only the first part\n",
        "of the string matches. This can be thougt of as analogous to the ^\n",
        "symbol.</p>\n",
        "<p>[A-Z]*[a-z]*$</p>\n",
        "<p>ABCabc, zzzyx, Bob</p>\n",
        "\n",
        "12. <b><i>?! :</i></b>\n",
        "<p>“Does not contain.” This odd pairing of symbols, immediately preceding\n",
        "a character (or regular expression), indicates that that character should\n",
        "not be found in that specific place in the larger string. This can be tricky\n",
        "to use; after all, the character might be found in a different part of the\n",
        "string. If trying to eliminate a character entirely, use in conjunction with\n",
        "a ^ and \\$ at either end.</p>\n",
        "<p>^((?![A-Z]).)*\\$</p>\n",
        "<p>no-caps-here, $ymb0ls a4e f!ne</p>\n",
        " \n"
      ],
      "metadata": {
        "id": "AxLH_dRkCJf9"
      }
    },
    {
      "cell_type": "code",
      "source": [
        "from bs4 import re"
      ],
      "metadata": {
        "id": "CRy9oeeQ8jIR"
      },
      "execution_count": 23,
      "outputs": []
    },
    {
      "cell_type": "code",
      "source": [
        "html = urlopen(url)\n",
        "\n",
        "bsObj = BeautifulSoup(html)\n",
        "images = bsObj.findAll(\"img\", {\"src\":re.compile(\"\\.\\.\\/img\\/gifts/img.*\\.jpg\")})\n",
        "\n",
        "for image in images:\n",
        "  print(image[\"src\"])"
      ],
      "metadata": {
        "colab": {
          "base_uri": "https://localhost:8080/"
        },
        "id": "Xov3BpLHCIEn",
        "outputId": "c0da3069-1018-4844-aa49-9c6617a76b43"
      },
      "execution_count": 25,
      "outputs": [
        {
          "output_type": "stream",
          "name": "stdout",
          "text": [
            "../img/gifts/img1.jpg\n",
            "../img/gifts/img2.jpg\n",
            "../img/gifts/img3.jpg\n",
            "../img/gifts/img4.jpg\n",
            "../img/gifts/img6.jpg\n"
          ]
        }
      ]
    }
  ]
}